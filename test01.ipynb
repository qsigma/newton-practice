{
 "cells": [
  {
   "cell_type": "markdown",
   "id": "234075b0-3bdd-4890-8952-33e0742c6012",
   "metadata": {},
   "source": [
    "# Newton's Method"
   ]
  },
  {
   "cell_type": "code",
   "execution_count": 21,
   "id": "a6c87e43-917a-47d0-b516-82b4a39e4273",
   "metadata": {
    "editable": true,
    "slideshow": {
     "slide_type": ""
    },
    "tags": []
   },
   "outputs": [
    {
     "name": "stdout",
     "output_type": "stream",
     "text": [
      "3.1041903847264183\n"
     ]
    }
   ],
   "source": [
    "import numpy as np\n",
    "\n",
    "def func(x):\n",
    "    return x**4/4 - x**3 - x\n",
    "\n",
    "def first_order_deriv(x, eps=1e-4):\n",
    "    \"\"\"Calculate the first derivative.\"\"\"\n",
    "    if not eps > 0:\n",
    "        eps = 1e-4\n",
    "    return (func(x+eps)-func(x))/eps\n",
    "\n",
    "def second_order_deriv(x, eps=1e-4):\n",
    "    \"\"\"Calculate the second derivative.\"\"\"\n",
    "    if not eps > 0:\n",
    "        eps = 1e-4\n",
    "    return (first_order_deriv(x+eps, eps)-first_order_deriv(x, eps))/eps\n",
    "\n",
    "def newton(x, eps=1e-4, threshold=0.01):\n",
    "    \"\"\"\n",
    "    Do newton iterations, until convergence.\n",
    "\n",
    "    Keyword arguments:\n",
    "    x -- the initial position\n",
    "    eps -- the step length for derivative\n",
    "    threshold -- the threshold for the changing value to be small enough to terminate the iteration\n",
    "    \"\"\"\n",
    "    if not eps > 0:\n",
    "        eps = 1e-4\n",
    "    if not threshold > 0:\n",
    "        threshold = 0.01\n",
    "    first_deriv = first_order_deriv(x, eps)\n",
    "    second_deriv = second_order_deriv(x, eps)\n",
    "    while abs(first_deriv/second_deriv) > threshold:\n",
    "        x = x - first_deriv/second_deriv\n",
    "        first_deriv = first_order_deriv(x, eps)\n",
    "        second_deriv = second_order_deriv(x, eps)\n",
    "        # print(x)\n",
    "    return x\n",
    "\n",
    "if __name__ == \"__main__\":\n",
    "    print(newton(5))"
   ]
  },
  {
   "cell_type": "markdown",
   "id": "31ee3fef-93ce-4579-9d2e-567ce9279bcc",
   "metadata": {},
   "source": [
    "# Git Visuals"
   ]
  },
  {
   "cell_type": "markdown",
   "id": "535ece76-2427-45a8-8c11-13ba07b0a94f",
   "metadata": {},
   "source": [
    "## Branch Operation"
   ]
  },
  {
   "cell_type": "markdown",
   "id": "5bb9494f-e7bb-4ce1-b928-0dbd0e2664b4",
   "metadata": {},
   "source": [
    "- Main **branch** always exists\n",
    "- Make **commits** to some branch; edit always exists as adding commits\n",
    "- A **tag** can be added to a certain commit; branch labels keep moving; tag label stays with that commit\n",
    "- **Create** a new develop branch\n",
    "- **Head** stays at a certain branch; commit applies to the branch where the head stays\n",
    "- **Merge** two branches to bring all changes of one branch into one another; communicate with team members to make sure merge successes\n",
    "- **Delete** a branch actually means to delete the tag of the branch; key idea is branch is cheap, and create more branches for different purposes\n",
    "- If a commit is a bug, use a certain commit to **revert** a commit"
   ]
  },
  {
   "cell_type": "markdown",
   "id": "29791c10-825c-41cc-8645-ce5a0285190d",
   "metadata": {},
   "source": [
    "# Code Style, Documentation"
   ]
  },
  {
   "cell_type": "markdown",
   "id": "bf5d926a-1464-4633-9e8a-171a5570907a",
   "metadata": {},
   "source": [
    "## Linting"
   ]
  },
  {
   "cell_type": "markdown",
   "id": "8058f7ba-dd8a-42f3-805b-06ec9290f081",
   "metadata": {},
   "source": [
    "- `ruff check` will roughly check if a python file has syntax errors; **visible**\n",
    "- `ruff format` reformats the python file to make the format style more standard; **invisible** we can back the original .py file and use `diff` to compare two python files"
   ]
  },
  {
   "cell_type": "markdown",
   "id": "7b995bcf-c9eb-4a87-b431-9ed8ca1bb49e",
   "metadata": {},
   "source": [
    "# Debugging and Testing"
   ]
  },
  {
   "cell_type": "code",
   "execution_count": 9,
   "id": "b52c4f62-a987-4b7f-a774-cab3a3e32ddf",
   "metadata": {},
   "outputs": [],
   "source": [
    "import os\n",
    "os.getcwd()\n",
    "os.chdir('/home/jovyan/newton-practice')"
   ]
  },
  {
   "cell_type": "code",
   "execution_count": 14,
   "id": "639eb707-c17d-4579-9653-10f771ab9177",
   "metadata": {},
   "outputs": [
    {
     "data": {
      "text/plain": [
       "3.141592603761794"
      ]
     },
     "execution_count": 14,
     "metadata": {},
     "output_type": "execute_result"
    }
   ],
   "source": [
    "import newton\n",
    "import numpy as np\n",
    "newton.newton(2.95,1e-7,1e-10)"
   ]
  },
  {
   "cell_type": "code",
   "execution_count": null,
   "id": "5053c138-7da0-4cf0-a3e8-2b275e6d7dab",
   "metadata": {},
   "outputs": [],
   "source": [
    "import pytest\n",
    "import numpy as np\n",
    "import math\n",
    "\n",
    "import newton\n",
    "\n",
    "# # Important: structure of tests assumes a dictionary with an 'x'\n",
    "# # key as the output. \n",
    "\n",
    "def test_basic_function():\n",
    "    assert np.isclose(newton.newton(2.95), math.pi)\n",
    "\n",
    "def test_bad_input():\n",
    "    with pytest.raises(TypeError, match='`x0` must be numeric'):\n",
    "        newton.newton('x')\n",
    "    with pytest.raises()\n",
    "\n",
    "# what does pytest do?\n",
    "# is it to return certain outcomes by my certain input cases?"
   ]
  },
  {
   "cell_type": "markdown",
   "id": "6d10f8c2-4c04-4e3e-981e-ffc165fa5eed",
   "metadata": {},
   "source": [
    "| Some Test Cases | Ideal Result |\n",
    "|-----------------|--------------|\n",
    "|non-numeric x | x should be a number|\n",
    "|non-function f| f should be a function that returns a number|\n",
    "|f(x) exists | invalid starting point |\n",
    "|f with 2nd derivative 0|division by 0 / f''(x) += 0.001|"
   ]
  },
  {
   "cell_type": "markdown",
   "id": "cbd434b9-ecde-497f-8b08-bda88226cb62",
   "metadata": {},
   "source": [
    "|Type of Error | Example |\n",
    "|--------------|-------------|\n",
    "|AttributeError|np.some_non_exist_attribute|\n",
    "|IndexError|some_list[10]|\n",
    "|KeyError|some_dict['non_exist_key']|\n",
    "|ValueError|int('abc')|\n",
    "|TypeError|1+'2'|\n",
    "|ZeroDivisionError|1/0|\n",
    "|ImportError|import non_exist_package|\n",
    "|-ModuleNotFoundError||\n",
    "|FileNotFoundError|open('non_exist_file.txt')|\n",
    "|OSError|os.remove('non_exist_file')|\n",
    "|RuntimeError|raise RuntimeError('An Error Occurred')|\n",
    "|NameError|print(non_exist_variable)|\n",
    "|IndentationEoor|#incorrect indentation|\n",
    "|SyntaxError|if xxx|\n",
    "|MemoryError|#memory overflows|\n",
    "|OverflowError|math.exp(1000)|\n",
    "|RecursionError|#recursion time overflows|\n",
    "|AssertionError|assert 1 == 2|\n",
    "\n"
   ]
  },
  {
   "cell_type": "code",
   "execution_count": 3,
   "id": "d0f67337-c6c8-485a-8d68-d450a7939cbc",
   "metadata": {},
   "outputs": [
    {
     "name": "stdout",
     "output_type": "stream",
     "text": [
      "[-5.00060774e-05  9.99950000e-01 -5.00060774e-05]\n"
     ]
    }
   ],
   "source": [
    "import numpy as np\n",
    "\n",
    "def func(x):\n",
    "    output = (x[0])**2 + (x[1] - 1)**2 + (x[2])**2\n",
    "    return output\n",
    "\n",
    "def first_partial(x, i, eps=1e-6):\n",
    "    \"\"\"\n",
    "    Calculate the first partial of func r.w.t. given index\n",
    "\n",
    "    x -- the position to take the partial\n",
    "    i -- the given index; no bigger than len(x)\n",
    "    eps -- the step length for partial\n",
    "    \"\"\"\n",
    "    x0 = x\n",
    "    x1 = x.copy()\n",
    "    x1[i] += eps\n",
    "    return (func(x1)-func(x0))/eps\n",
    "\n",
    "def second_partial(x, i, j, eps=1e-6):\n",
    "    \"\"\"\n",
    "    Calculate the second partial of func r.w.t. two given indices.\n",
    "    \"\"\"\n",
    "    x0 = x\n",
    "    x1 = x.copy()\n",
    "    x1[j] += eps\n",
    "    partial_i_0 = first_partial(x0, i, eps)\n",
    "    partial_i_1 = first_partial(x1, i, eps)\n",
    "    return (partial_i_1 - partial_i_0)/eps\n",
    "\n",
    "def grad(x, eps=1e-6):\n",
    "    \"\"\"Calculate the gradient.\"\"\"\n",
    "    array = np.zeros(len(x))\n",
    "    for i in range(len(x)):\n",
    "        array[i] = first_partial(x, i, eps)\n",
    "    return array\n",
    "\n",
    "def hessian_inv(x, eps=1e-6):\n",
    "    \"\"\"Calculate the inv of Hessian matrix of given func and x.\"\"\"\n",
    "    matrix = np.zeros((len(x),len(x)))\n",
    "    for i in range(len(x)):\n",
    "        for j in range(len(x)):\n",
    "            matrix[i][j] = second_partial(x, i, j, eps)\n",
    "    return np.linalg.inv(matrix)\n",
    "\n",
    "def optimize(x, eps=1e-4, tol=1e-4):\n",
    "    \"\"\"x_{t+1} = x_t - H(x_t)^{-1} nabla f(x_t)\"\"\"\n",
    "    while np.linalg.norm(np.dot(hessian_inv(x, eps), grad(x,eps))) > tol:\n",
    "        x = x - np.dot(hessian_inv(x, eps), grad(x,eps))\n",
    "    return x\n",
    "\n",
    "if __name__ == \"__main__\":\n",
    "    print(optimize([1,1,1]))\n",
    "        \n",
    "    \n",
    "    "
   ]
  },
  {
   "cell_type": "code",
   "execution_count": null,
   "id": "b23382ea-9aea-43ec-a4de-c111ed94bdbf",
   "metadata": {},
   "outputs": [],
   "source": []
  }
 ],
 "metadata": {
  "kernelspec": {
   "display_name": "Python 3 (ipykernel)",
   "language": "python",
   "name": "python3"
  },
  "language_info": {
   "codemirror_mode": {
    "name": "ipython",
    "version": 3
   },
   "file_extension": ".py",
   "mimetype": "text/x-python",
   "name": "python",
   "nbconvert_exporter": "python",
   "pygments_lexer": "ipython3",
   "version": "3.11.9"
  }
 },
 "nbformat": 4,
 "nbformat_minor": 5
}
